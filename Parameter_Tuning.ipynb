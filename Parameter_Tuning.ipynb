{
 "cells": [
  {
   "cell_type": "code",
   "execution_count": 1,
   "id": "3e4c6d19-6db1-44d6-9b3f-4fa370747845",
   "metadata": {},
   "outputs": [],
   "source": [
    "import lightgbm as lgb"
   ]
  },
  {
   "cell_type": "code",
   "execution_count": null,
   "id": "4b7c5a2a-fb23-4717-a810-31f57711233b",
   "metadata": {},
   "outputs": [],
   "source": [
    "train_data = lgb.Dataset(\"drive/MyDrive/f_select_train.bin\", free_raw_data=False)\n",
    "train_data.construct()\n",
    "val_data = lgb.Dataset(\"drive/MyDrive/f_select_val.bin\", reference=train_data, free_raw_data=False)\n",
    "val_data.construct()\n",
    "test_data = lgb.Dataset(\"drive/MyDrive/f_select_test.bin\", reference=train_data, free_raw_data=False)\n",
    "test_data.construct()"
   ]
  },
  {
   "cell_type": "code",
   "execution_count": null,
   "id": "38aaa86f-986b-4e33-a149-462340b42172",
   "metadata": {},
   "outputs": [],
   "source": [
    "import optuna\n",
    "from sklearn.metrics import mean_squared_error\n",
    "from optuna.integration import LightGBMPruningCallback"
   ]
  },
  {
   "cell_type": "code",
   "execution_count": null,
   "id": "afcacfe1-e610-4a39-af09-78d1df4da843",
   "metadata": {},
   "outputs": [],
   "source": [
    "def objective(trial, X, y):\n",
    "    param_grid = {\n",
    "        \"n_estimators\" : trial.suggest_categorical(\"n_estimators\", [5000]),\n",
    "        \"learning_rate\": trial.suggest_float(\"learning_rate\", 0.01, 0.3),\n",
    "        \"num_leaves\": trial.suggest_int(\"num_leaves\", 20, 500, step=20),\n",
    "        \"max_depth\": trial.suggest_int(\"max_depth\", 3, 21),\n",
    "        #\"min_data_in_leaf\": trial.suggest_int(\"min_data_in_leaf\", 200, 10000, step=100)\n",
    "        \"max_bin\":trial.suggest_int(\"max_bin\", 200, 300, step=10),\n",
    "        \"lambda_l1\": trial.suggest_int(\"lambda_l1\", 0, 100, step=10),\n",
    "        \"lambda_l2\": trial.suggest_int(\"lambda_l2\", 0, 100, step=10),\n",
    "        \"main_gain_to_split\": trial.suggest_float(\"min_gain_to_split\", 0, 15),\n",
    "        \"bagging_fraction\": trial.suggest_float(\"bagging_fraction\", 0.2, 0.9, step=0.1),\n",
    "        \"bagging_freq\": trial.suggest_categorical(\"bagging_freq\",[1]),\n",
    "        \"feature_fraction\": trial.suggest_float(\"feature_fraction\", 0.2, 0.9, step=0.1),\n",
    "    }\n",
    "    model = lgb.LGBMRegressor(objective='regression', **param_grid)\n",
    "    model.fit(X_train, y_train, eval_set=[(X_val, y_val)], eval_metric='rmse', early_stopping_rounds=100, callbacks=[LightGBMPruningCallback(trial, \"rmse\")])\n",
    "    \n",
    "    y_pred = model.predict(X_val)\n",
    "    score = mean_squared_error(y_val, y_pred, squared=False)\n",
    "    \n",
    "    return score"
   ]
  },
  {
   "cell_type": "code",
   "execution_count": null,
   "id": "cb592d0d-5a4f-479e-a5a6-d1f93fe253b3",
   "metadata": {},
   "outputs": [],
   "source": [
    "study = optuna.create_study(direction=\"minimize\", study_name=\"LGBM Classifier\")\n",
    "func = lambda trial: objective(trial, X, y)\n",
    "study.optimize(func, n_trials=20)"
   ]
  },
  {
   "cell_type": "code",
   "execution_count": null,
   "id": "9bf8ab5d-da08-4ed1-b361-b400a0cf1e1c",
   "metadata": {},
   "outputs": [],
   "source": [
    "print(f\"\\tBest value (rmse): {study.best_value:.5f}\")\n",
    "print(f\"\\tBest params:\")\n",
    "\n",
    "for key, value in study.best_params.items():\n",
    "    print(f\"\\t\\t{key}: {value}\")"
   ]
  }
 ],
 "metadata": {
  "kernelspec": {
   "display_name": "Python 3 (ipykernel)",
   "language": "python",
   "name": "python3"
  },
  "language_info": {
   "codemirror_mode": {
    "name": "ipython",
    "version": 3
   },
   "file_extension": ".py",
   "mimetype": "text/x-python",
   "name": "python",
   "nbconvert_exporter": "python",
   "pygments_lexer": "ipython3",
   "version": "3.9.7"
  },
  "widgets": {
   "application/vnd.jupyter.widget-state+json": {
    "state": {},
    "version_major": 2,
    "version_minor": 0
   }
  }
 },
 "nbformat": 4,
 "nbformat_minor": 5
}
