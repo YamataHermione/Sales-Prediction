{
 "cells": [
  {
   "cell_type": "code",
   "execution_count": 1,
   "id": "b62aed2b-765a-419e-a24d-95b83e823bcd",
   "metadata": {},
   "outputs": [],
   "source": [
    "import lightgbm as lgb"
   ]
  },
  {
   "cell_type": "code",
   "execution_count": 2,
   "id": "b0022a75-2ddb-48fb-886b-14adfa0d46c1",
   "metadata": {},
   "outputs": [],
   "source": [
    "saved_feature = ['month_1_hist', 'month_2_hist', 'month_3_hist', 'month_6_hist',\n",
    "       'month_7_hist', 'month_8_hist', 'month_9_hist', 'month_10_hist',\n",
    "       'diff_2_months_mean', 'mean_2_months', 'std_2_months',\n",
    "       'diff_3_months_mean', 'mean_3_months', 'std_3_months',\n",
    "       'min_3_months', 'diff_4_months_mean', 'mean_4_months',\n",
    "       'median_4_months', 'std_4_months', 'diff_5_months_mean',\n",
    "       'mean_5_months', 'std_5_months', 'diff_6_months_mean',\n",
    "       'mean_6_months', 'median_6_months', 'max_6_months', 'std_6_months',\n",
    "       'diff_2_months', 'diff_3_months', 'diff_4_months', 'diff_5_months',\n",
    "       'diff_6_months']"
   ]
  },
  {
   "cell_type": "code",
   "execution_count": 3,
   "id": "789c219a-6a3b-476f-ae6d-08fcb3addbb0",
   "metadata": {},
   "outputs": [],
   "source": [
    "import pandas as pd"
   ]
  },
  {
   "cell_type": "code",
   "execution_count": 8,
   "id": "72a62cd3-389f-4fd9-b644-d7324db1d0a4",
   "metadata": {},
   "outputs": [],
   "source": [
    "import gc"
   ]
  },
  {
   "cell_type": "code",
   "execution_count": 19,
   "id": "41b4c29b-5312-4ebc-baee-97c030f88c98",
   "metadata": {},
   "outputs": [],
   "source": [
    "##load data\n",
    "\n",
    "train = pd.read_parquet(\"train.parquet.gzip\")\n",
    "val = pd.read_parquet(\"val.parquet.gzip\")\n",
    "X_test = pd.read_parquet(\"test.parquet.gzip\")"
   ]
  },
  {
   "cell_type": "code",
   "execution_count": 21,
   "id": "edcdc3e9-17d5-419d-b336-38eea7cf0f36",
   "metadata": {},
   "outputs": [
    {
     "data": {
      "text/plain": [
       "Index(['month_1_hist', 'month_2_hist', 'month_3_hist', 'month_4_hist',\n",
       "       'month_5_hist', 'month_6_hist', 'month_7_hist', 'month_8_hist',\n",
       "       'month_9_hist', 'month_10_hist', 'diff_1_months_mean', 'mean_1_months',\n",
       "       'median_1_months', 'max_1_months', 'std_1_months', 'min_1_months',\n",
       "       'diff_2_months_mean', 'mean_2_months', 'median_2_months',\n",
       "       'max_2_months', 'std_2_months', 'min_2_months', 'diff_3_months_mean',\n",
       "       'mean_3_months', 'median_3_months', 'max_3_months', 'std_3_months',\n",
       "       'min_3_months', 'diff_4_months_mean', 'mean_4_months',\n",
       "       'median_4_months', 'max_4_months', 'std_4_months', 'min_4_months',\n",
       "       'diff_5_months_mean', 'mean_5_months', 'median_5_months',\n",
       "       'max_5_months', 'std_5_months', 'min_5_months', 'diff_6_months_mean',\n",
       "       'mean_6_months', 'median_6_months', 'max_6_months', 'std_6_months',\n",
       "       'min_6_months', 'diff_1_months', 'diff_2_months', 'diff_3_months',\n",
       "       'diff_4_months', 'diff_5_months', 'diff_6_months', 'y'],\n",
       "      dtype='object')"
      ]
     },
     "execution_count": 21,
     "metadata": {},
     "output_type": "execute_result"
    }
   ],
   "source": [
    "train.columns"
   ]
  },
  {
   "cell_type": "code",
   "execution_count": 22,
   "id": "03e5109c-8f26-473b-85c7-f66806be57ac",
   "metadata": {},
   "outputs": [
    {
     "data": {
      "text/plain": [
       "98"
      ]
     },
     "execution_count": 22,
     "metadata": {},
     "output_type": "execute_result"
    }
   ],
   "source": [
    "train_s = train[saved_feature + ['y']]\n",
    "val_s = val[saved_feature + ['y']]\n",
    "X_test_s = X_test[saved_feature]\n",
    "\n",
    "train_s.to_parquet(\"train_s.parquet.gzip\")\n",
    "val_s.to_parquet(\"val_s.parquet.gzip\")\n",
    "X_test_s.to_parquet(\"test_s.parquet.gzip\")\n",
    "\n",
    "del train, val, X_test\n",
    "gc.collect()"
   ]
  },
  {
   "cell_type": "code",
   "execution_count": 9,
   "id": "7b30b73d-6fbc-45b2-b535-adf0dfb80517",
   "metadata": {},
   "outputs": [
    {
     "data": {
      "text/plain": [
       "6181"
      ]
     },
     "execution_count": 9,
     "metadata": {},
     "output_type": "execute_result"
    }
   ],
   "source": [
    "X_train = train.drop(columns=['y'])\n",
    "y_train = train.y\n",
    "\n",
    "X_val = val.drop(columns=['y'])\n",
    "y_val = val.y\n",
    "\n",
    "del train, val\n",
    "gc.collect()"
   ]
  },
  {
   "cell_type": "code",
   "execution_count": 12,
   "id": "7c234d52-72f5-4d30-b053-b3a066542121",
   "metadata": {},
   "outputs": [],
   "source": [
    "X_train = X_train[saved_feature]\n",
    "X_val = X_val[saved_feature]"
   ]
  },
  {
   "cell_type": "code",
   "execution_count": 13,
   "id": "8a7d631f-a588-4a1b-a22b-9964dea70ae5",
   "metadata": {},
   "outputs": [],
   "source": [
    "X_test = X_test[saved_feature]"
   ]
  },
  {
   "cell_type": "code",
   "execution_count": 15,
   "id": "9d3d6091-c0d5-4cce-9e2c-1c4f6228e230",
   "metadata": {},
   "outputs": [],
   "source": [
    "f_select_train = lgb.Dataset(data=X_train, label=y_train)\n",
    "f_select_val = f_select_train.create_valid(data=X_val, label=y_val)\n",
    "f_select_test = f_select_train.create_valid(data=X_test)"
   ]
  },
  {
   "cell_type": "code",
   "execution_count": 16,
   "id": "f019f0bf-d45d-4a8b-a49a-87ad3d261ce9",
   "metadata": {},
   "outputs": [
    {
     "name": "stdout",
     "output_type": "stream",
     "text": [
      "[LightGBM] [Info] Saving data to binary file f_select_train.bin\n"
     ]
    },
    {
     "name": "stderr",
     "output_type": "stream",
     "text": [
      "D:\\Anaconda\\lib\\site-packages\\lightgbm\\basic.py:1780: UserWarning: Overriding the parameters from Reference Dataset.\n",
      "  _log_warning('Overriding the parameters from Reference Dataset.')\n"
     ]
    },
    {
     "name": "stdout",
     "output_type": "stream",
     "text": [
      "[LightGBM] [Info] Saving data to binary file f_select_val.bin\n",
      "[LightGBM] [Info] Saving data to binary file f_select_test.bin\n"
     ]
    },
    {
     "data": {
      "text/plain": [
       "<lightgbm.basic.Dataset at 0x19b87294910>"
      ]
     },
     "execution_count": 16,
     "metadata": {},
     "output_type": "execute_result"
    }
   ],
   "source": [
    "f_select_train.save_binary('f_select_train.bin')\n",
    "f_select_val.save_binary('f_select_val.bin')\n",
    "f_select_test.save_binary('f_select_test.bin')"
   ]
  },
  {
   "cell_type": "code",
   "execution_count": null,
   "id": "e5c68110-33d9-4fa6-a4cc-b77b245007a2",
   "metadata": {},
   "outputs": [],
   "source": []
  }
 ],
 "metadata": {
  "kernelspec": {
   "display_name": "Python 3 (ipykernel)",
   "language": "python",
   "name": "python3"
  },
  "language_info": {
   "codemirror_mode": {
    "name": "ipython",
    "version": 3
   },
   "file_extension": ".py",
   "mimetype": "text/x-python",
   "name": "python",
   "nbconvert_exporter": "python",
   "pygments_lexer": "ipython3",
   "version": "3.9.7"
  },
  "widgets": {
   "application/vnd.jupyter.widget-state+json": {
    "state": {},
    "version_major": 2,
    "version_minor": 0
   }
  }
 },
 "nbformat": 4,
 "nbformat_minor": 5
}
